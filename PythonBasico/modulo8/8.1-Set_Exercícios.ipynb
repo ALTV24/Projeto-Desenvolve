{
 "cells": [
  {
   "cell_type": "markdown",
   "id": "0d5035b5",
   "metadata": {},
   "source": [
    "# Set\n",
    "\n",
    "## Aula 8.1"
   ]
  },
  {
   "cell_type": "markdown",
   "id": "0bdece85",
   "metadata": {},
   "source": [
    "### Q1. \n",
    "\n",
    "Dada uma string qualquer, use seu conhecimento de sets para apresentar os caracteres únicos que aparecem na string, ordenados alfabeticamente e sem duplicatas. Preste atenção em duplicatas de maiúsculas e minúsculas.\n"
   ]
  },
  {
   "cell_type": "code",
   "execution_count": 13,
   "id": "0a258eba",
   "metadata": {},
   "outputs": [
    {
     "name": "stdout",
     "output_type": "stream",
     "text": [
      "[' ', 'a', 'b', 'd', 'e', 'n', 'o', 'p', 'r', 's', 't', 'u']\n"
     ]
    }
   ],
   "source": [
    "frase = \"O rato roeu a roupa do Robson\"\n",
    "\n",
    "## Implemente aqui sua solução\n",
    "print(sorted(set(frase.lower())))"
   ]
  },
  {
   "cell_type": "markdown",
   "id": "0856bd56",
   "metadata": {},
   "source": [
    "### Q2\n",
    "\n",
    "Desenvolva uma função em Python chamada ```tem_elementos_comuns()``` que recebe duas listas como parâmetros e retorna True se houver algum elemento comum entre as duas listas, e False caso contrário. Utilize sets para resolver essa tarefa."
   ]
  },
  {
   "cell_type": "code",
   "execution_count": 14,
   "id": "f7ab6736",
   "metadata": {},
   "outputs": [],
   "source": [
    "# Implemente aqui a função tem_elementos_comuns()\n",
    "\n",
    "def tem_elementos_comuns(lista1, lista2):\n",
    "    set1 = set(lista1)\n",
    "    set2 = set(lista2)\n",
    "    return bool(set1 & set2)"
   ]
  },
  {
   "cell_type": "code",
   "execution_count": 15,
   "id": "1022744a",
   "metadata": {},
   "outputs": [
    {
     "name": "stdout",
     "output_type": "stream",
     "text": [
      "True\n"
     ]
    }
   ],
   "source": [
    "# Execute esta célula para testar a função da Q2.\n",
    "\n",
    "lista1 = [1, 2, 3, 4]\n",
    "lista2 = [3, 4, 5, 6, 7]\n",
    "resultado = tem_elementos_comuns(lista1, lista2)\n",
    "print(resultado)  # Saída esperada: True"
   ]
  },
  {
   "cell_type": "markdown",
   "id": "649a5082",
   "metadata": {},
   "source": [
    "### Q3. \n",
    "\n",
    "Você vai coletar de diferentes turmas de alunos seus interesses em atividades extra curriculares dentre futebol, vôlei, rugby, música, teatro, ações comunitárias. Informe o conjunto de atividades comuns a todas a turmas. Pode preencher o iterável turmas com valores arbitrários. \n"
   ]
  },
  {
   "cell_type": "code",
   "execution_count": 12,
   "id": "880a9927",
   "metadata": {},
   "outputs": [
    {
     "name": "stdout",
     "output_type": "stream",
     "text": [
      "{'rugby', 'música', 'ações comunitárias', 'futebol'}\n",
      "{'rugby', 'música', 'ações comunitárias'}\n",
      "{'rugby', 'música'}\n",
      "{'rugby', 'música'}\n",
      "{'rugby'}\n",
      "{'rugby'}\n",
      "{'rugby'}\n",
      "{'rugby'}\n",
      "{'rugby'}\n"
     ]
    }
   ],
   "source": [
    "turmas = [\n",
    "     {'ações comunitárias', 'futebol', 'música', 'rugby'},\n",
    "     {'ações comunitárias', 'música', 'rugby', 'teatro'},\n",
    "     {'música', 'rugby', 'teatro', 'vôlei'},\n",
    "     {'música', 'vôlei', 'rugby'},\n",
    "     {'ações comunitárias', 'futebol', 'rugby', 'teatro', 'vôlei'},\n",
    "     {'ações comunitárias', 'futebol', 'rugby'},\n",
    "     {'ações comunitárias', 'rugby', 'teatro', 'vôlei'},\n",
    "     {'ações comunitárias', 'rugby', 'teatro', 'vôlei'},\n",
    "     {'ações comunitárias', 'rugby', 'vôlei'}\n",
    "]\n",
    "\n",
    "atividades_finais = turmas [0]\n",
    "for turma in turmas [1:]:\n",
    "    print(atividades_finais)\n",
    "    atividades_finais = atividades_finais.intersection(turma)\n",
    "print(atividades_finais)"
   ]
  },
  {
   "cell_type": "markdown",
   "id": "021e2b1e",
   "metadata": {},
   "source": [
    "### Q4. \n",
    "Considere duas listas que são duplicatas uma da outra, exceto por um elemento, exemplo:\n",
    "```\n",
    "A = [1, 4, 5, 7, 9]\n",
    "B = [4, 5, 7, 9]\n",
    "```\n",
    "\n",
    "Encontre e apresente o elemento diferente, informando também qual das listas está desfalcada. Para o exemplo acima, a saída esperada é\n",
    "```\n",
    "O elemento 1 está faltando na segunda lista\n",
    "```"
   ]
  },
  {
   "cell_type": "code",
   "execution_count": 24,
   "id": "608761a4",
   "metadata": {},
   "outputs": [
    {
     "name": "stdout",
     "output_type": "stream",
     "text": [
      "O elemento 1 está faltado na segunda lista\n"
     ]
    }
   ],
   "source": [
    "## Implemente aqui sua solução\n",
    "A = [1, 4, 5, 7, 9]\n",
    "B = [4, 5, 7, 9]\n",
    "if len(A) > len(B):\n",
    "    diferenca = list(set(A)-set(B))[0]\n",
    "    print(f\"O elemento {diferenca} está faltado na segunda lista\")\n",
    "else:\n",
    "    diferenca = list(set(B) - set(A))[0]\n",
    "    print(f\"O elemento {diferenca} está faltando na primeira lista\")\n"
   ]
  },
  {
   "cell_type": "markdown",
   "id": "ddf180c1",
   "metadata": {},
   "source": [
    "### Q5.\n",
    "\n",
    "Panagramas são frases que contém todas as letras do alfabeto pelo menos uma vez. Crie uma função ```checa_panagrama``` que recebe uma string e retorna ```True``` caso seja um panagrama ou ```False```caso contrário. Use seu conhecimento de sets para solucionar essa questão.\n",
    "\n",
    "Ex: \n",
    "```\n",
    "Entrada: \"The quick brown fox jumps over the lazy dog\" \n",
    "Saída: É um panagrama\n",
    "```\n",
    "\n",
    "```\n",
    "Entrada: \"Python é uma linguagem de programação\" \n",
    "Saída: Não é um panagrama\n",
    "```"
   ]
  },
  {
   "cell_type": "code",
   "execution_count": 1,
   "id": "4e8b0390",
   "metadata": {},
   "outputs": [
    {
     "name": "stdout",
     "output_type": "stream",
     "text": [
      "Não é um panagrama\n"
     ]
    }
   ],
   "source": [
    "## Implemente aqui sua solução\n",
    "import string\n",
    "def checa_pangrama(frase):\n",
    "    alfabeto = set(string.ascii_lowercase)\n",
    "    letra_frase = set(frase.lower())\n",
    "    return alfabeto.issubset(letra_frase)\n",
    "frase = input(\"Digite uma frase:\")\n",
    "if checa_pangrama(frase):\n",
    "    print(\"É um panagrama\")\n",
    "else:\n",
    "    print(\"Não é um panagrama\")\n"
   ]
  }
 ],
 "metadata": {
  "kernelspec": {
   "display_name": "Python 3",
   "language": "python",
   "name": "python3"
  },
  "language_info": {
   "codemirror_mode": {
    "name": "ipython",
    "version": 3
   },
   "file_extension": ".py",
   "mimetype": "text/x-python",
   "name": "python",
   "nbconvert_exporter": "python",
   "pygments_lexer": "ipython3",
   "version": "3.13.7"
  }
 },
 "nbformat": 4,
 "nbformat_minor": 5
}
